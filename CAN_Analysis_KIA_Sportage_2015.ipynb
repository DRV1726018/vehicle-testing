{
 "cells": [
  {
   "cell_type": "markdown",
   "source": [
    "# **Ensayo de lectura del Bus CAN en KIA Sportage 2015**\n",
    "\n",
    "---\n",
    "\n",
    "\n",
    "El ensayo se realizó el 23 de julio de 2021 en el dinamómetro del Laboratorio de Emisiones de *Blanco y Negro Masivo (Metrocali)* en el Patio Taller Calima ubicado en Yumbo, Valle.\n",
    "\n",
    "\n",
    "\n",
    "---\n",
    "\n",
    "\n",
    "El ensayo se realizó con el dispositivo [CANEdge2 Logger](https://www.csselectronics.com/screen/product/can-lin-logger-wifi-canedge2/language/en). En el siguiente enlace puede encontrar la carpeta con la data generada.\n",
    "\n",
    "*   [KIA Sportage 2015 - Dina. Metrocali](https://drive.google.com/drive/folders/1_JDW8dhGknh96i0ICReeCrxRWxyb0GPR?usp=sharing)\n",
    "\n",
    "A continuación una foto del ensayo.\n",
    "\n",
    "![](https://drive.google.com/uc?export=view&id=1jKCOCNwXc4dlgO-PudePOD4P0t-uRDw3)"
   ],
   "metadata": {
    "collapsed": false,
    "pycharm": {
     "name": "#%% md\n"
    }
   }
  },
  {
   "cell_type": "code",
   "execution_count": 690,
   "outputs": [
    {
     "data": {
      "text/plain": "   TimestampEpoch  BusChannel   ID  IDE  DLC  DataLength  Dir  EDL  BRS  \\\n0    1.627077e+09           1  370    0    8           8    0    0    0   \n1    1.627077e+09           1  316    0    8           8    0    0    0   \n2    1.627077e+09           1  260    0    8           8    0    0    0   \n3    1.627077e+09           1  2A0    0    8           8    0    0    0   \n4    1.627077e+09           1  545    0    8           8    0    0    0   \n\n          DataBytes  \n0  FF00000000000000  \n1  0500000000140080  \n2  1B00000000FF0000  \n3  00009600D7330000  \n4  9A00007B00000000  ",
      "text/html": "<div>\n<style scoped>\n    .dataframe tbody tr th:only-of-type {\n        vertical-align: middle;\n    }\n\n    .dataframe tbody tr th {\n        vertical-align: top;\n    }\n\n    .dataframe thead th {\n        text-align: right;\n    }\n</style>\n<table border=\"1\" class=\"dataframe\">\n  <thead>\n    <tr style=\"text-align: right;\">\n      <th></th>\n      <th>TimestampEpoch</th>\n      <th>BusChannel</th>\n      <th>ID</th>\n      <th>IDE</th>\n      <th>DLC</th>\n      <th>DataLength</th>\n      <th>Dir</th>\n      <th>EDL</th>\n      <th>BRS</th>\n      <th>DataBytes</th>\n    </tr>\n  </thead>\n  <tbody>\n    <tr>\n      <th>0</th>\n      <td>1.627077e+09</td>\n      <td>1</td>\n      <td>370</td>\n      <td>0</td>\n      <td>8</td>\n      <td>8</td>\n      <td>0</td>\n      <td>0</td>\n      <td>0</td>\n      <td>FF00000000000000</td>\n    </tr>\n    <tr>\n      <th>1</th>\n      <td>1.627077e+09</td>\n      <td>1</td>\n      <td>316</td>\n      <td>0</td>\n      <td>8</td>\n      <td>8</td>\n      <td>0</td>\n      <td>0</td>\n      <td>0</td>\n      <td>0500000000140080</td>\n    </tr>\n    <tr>\n      <th>2</th>\n      <td>1.627077e+09</td>\n      <td>1</td>\n      <td>260</td>\n      <td>0</td>\n      <td>8</td>\n      <td>8</td>\n      <td>0</td>\n      <td>0</td>\n      <td>0</td>\n      <td>1B00000000FF0000</td>\n    </tr>\n    <tr>\n      <th>3</th>\n      <td>1.627077e+09</td>\n      <td>1</td>\n      <td>2A0</td>\n      <td>0</td>\n      <td>8</td>\n      <td>8</td>\n      <td>0</td>\n      <td>0</td>\n      <td>0</td>\n      <td>00009600D7330000</td>\n    </tr>\n    <tr>\n      <th>4</th>\n      <td>1.627077e+09</td>\n      <td>1</td>\n      <td>545</td>\n      <td>0</td>\n      <td>8</td>\n      <td>8</td>\n      <td>0</td>\n      <td>0</td>\n      <td>0</td>\n      <td>9A00007B00000000</td>\n    </tr>\n  </tbody>\n</table>\n</div>"
     },
     "execution_count": 690,
     "metadata": {},
     "output_type": "execute_result"
    }
   ],
   "source": [
    "import pandas as pd\n",
    "# https://drive.google.com/file/d/1QcO_DUKsjT9P8xkiv5-95VnBavs_-rqC/view?usp=sharing\n",
    "data = pd.read_csv('https://drive.google.com/uc?id=1QcO_DUKsjT9P8xkiv5-95VnBavs_-rqC',\n",
    "                           delimiter=';')\n",
    "data.head()"
   ],
   "metadata": {
    "collapsed": false,
    "pycharm": {
     "name": "#%%\n"
    }
   }
  },
  {
   "cell_type": "code",
   "execution_count": 691,
   "outputs": [
    {
     "data": {
      "text/plain": "RangeIndex(start=0, stop=1137089, step=1)"
     },
     "execution_count": 691,
     "metadata": {},
     "output_type": "execute_result"
    }
   ],
   "source": [
    "data.index"
   ],
   "metadata": {
    "collapsed": false,
    "pycharm": {
     "name": "#%%\n"
    }
   }
  },
  {
   "cell_type": "markdown",
   "source": [
    "Como se puede cobservar, del ensayo se obtuvieron 1.137.089 datos mensajes CAN."
   ],
   "metadata": {
    "collapsed": false,
    "pycharm": {
     "name": "#%% md\n"
    }
   }
  },
  {
   "cell_type": "code",
   "execution_count": 692,
   "outputs": [
    {
     "data": {
      "text/plain": "Index(['TimestampEpoch', 'BusChannel', 'ID', 'IDE', 'DLC', 'DataLength', 'Dir',\n       'EDL', 'BRS', 'DataBytes'],\n      dtype='object')"
     },
     "execution_count": 692,
     "metadata": {},
     "output_type": "execute_result"
    }
   ],
   "source": [
    "data.columns"
   ],
   "metadata": {
    "collapsed": false,
    "pycharm": {
     "name": "#%%\n"
    }
   }
  },
  {
   "cell_type": "code",
   "execution_count": 693,
   "outputs": [
    {
     "data": {
      "text/plain": "<bound method DataFrame.info of          TimestampEpoch  BusChannel   ID  IDE  DLC  DataLength  Dir  EDL  BRS  \\\n0          1.627077e+09           1  370    0    8           8    0    0    0   \n1          1.627077e+09           1  316    0    8           8    0    0    0   \n2          1.627077e+09           1  260    0    8           8    0    0    0   \n3          1.627077e+09           1  2A0    0    8           8    0    0    0   \n4          1.627077e+09           1  545    0    8           8    0    0    0   \n...                 ...         ...  ...  ...  ...         ...  ...  ...  ...   \n1137084    1.627078e+09           1  316    0    8           8    0    0    0   \n1137085    1.627078e+09           1  260    0    8           8    0    0    0   \n1137086    1.627078e+09           1  2A0    0    8           8    0    0    0   \n1137087    1.627078e+09           1  545    0    8           8    0    0    0   \n1137088    1.627078e+09           1  329    0    8           8    0    0    0   \n\n                DataBytes  \n0        FF00000000000000  \n1        0500000000140080  \n2        1B00000000FF0000  \n3        00009600D7330000  \n4        9A00007B00000000  \n...                   ...  \n1137084  040000000011005B  \n1137085  1B00000000FF0000  \n1137086  0000A280D8330000  \n1137087  9800000200000000  \n1137088  40B270120020FF14  \n\n[1137089 rows x 10 columns]>"
     },
     "execution_count": 693,
     "metadata": {},
     "output_type": "execute_result"
    }
   ],
   "source": [
    "data.info"
   ],
   "metadata": {
    "collapsed": false,
    "pycharm": {
     "name": "#%%\n"
    }
   }
  },
  {
   "cell_type": "code",
   "execution_count": 694,
   "outputs": [
    {
     "name": "stdout",
     "output_type": "stream",
     "text": [
      "<class 'pandas.core.frame.DataFrame'>\n",
      "RangeIndex: 1137089 entries, 0 to 1137088\n",
      "Data columns (total 10 columns):\n",
      " #   Column          Non-Null Count    Dtype  \n",
      "---  ------          --------------    -----  \n",
      " 0   TimestampEpoch  1137089 non-null  float64\n",
      " 1   BusChannel      1137089 non-null  int64  \n",
      " 2   ID              1137089 non-null  object \n",
      " 3   IDE             1137089 non-null  int64  \n",
      " 4   DLC             1137089 non-null  int64  \n",
      " 5   DataLength      1137089 non-null  int64  \n",
      " 6   Dir             1137089 non-null  int64  \n",
      " 7   EDL             1137089 non-null  int64  \n",
      " 8   BRS             1137089 non-null  int64  \n",
      " 9   DataBytes       1137089 non-null  object \n",
      "dtypes: float64(1), int64(7), object(2)\n",
      "memory usage: 86.8+ MB\n"
     ]
    }
   ],
   "source": [
    "data.info()"
   ],
   "metadata": {
    "collapsed": false,
    "pycharm": {
     "name": "#%%\n"
    }
   }
  },
  {
   "cell_type": "code",
   "execution_count": 695,
   "outputs": [
    {
     "data": {
      "text/plain": "11370890"
     },
     "execution_count": 695,
     "metadata": {},
     "output_type": "execute_result"
    }
   ],
   "source": [
    "data.size"
   ],
   "metadata": {
    "collapsed": false,
    "pycharm": {
     "name": "#%%\n"
    }
   }
  },
  {
   "cell_type": "code",
   "execution_count": 696,
   "outputs": [
    {
     "data": {
      "text/plain": "(1137089, 10)"
     },
     "execution_count": 696,
     "metadata": {},
     "output_type": "execute_result"
    }
   ],
   "source": [
    "data.shape"
   ],
   "metadata": {
    "collapsed": false,
    "pycharm": {
     "name": "#%%\n"
    }
   }
  },
  {
   "cell_type": "code",
   "execution_count": 697,
   "outputs": [
    {
     "data": {
      "text/plain": "TimestampEpoch    float64\nBusChannel          int64\nID                 object\nIDE                 int64\nDLC                 int64\nDataLength          int64\nDir                 int64\nEDL                 int64\nBRS                 int64\nDataBytes          object\ndtype: object"
     },
     "execution_count": 697,
     "metadata": {},
     "output_type": "execute_result"
    }
   ],
   "source": [
    "data.dtypes"
   ],
   "metadata": {
    "collapsed": false,
    "pycharm": {
     "name": "#%%\n"
    }
   }
  },
  {
   "cell_type": "code",
   "execution_count": 698,
   "outputs": [
    {
     "data": {
      "text/plain": "   TimestampEpoch  BusChannel   ID  IDE  DLC  DataLength  Dir  EDL  BRS  \\\n0    1.627077e+09           1  370    0    8           8    0    0    0   \n1    1.627077e+09           1  316    0    8           8    0    0    0   \n2    1.627077e+09           1  260    0    8           8    0    0    0   \n3    1.627077e+09           1  2A0    0    8           8    0    0    0   \n4    1.627077e+09           1  545    0    8           8    0    0    0   \n\n          DataBytes  \n0  FF00000000000000  \n1  0500000000140080  \n2  1B00000000FF0000  \n3  00009600D7330000  \n4  9A00007B00000000  ",
      "text/html": "<div>\n<style scoped>\n    .dataframe tbody tr th:only-of-type {\n        vertical-align: middle;\n    }\n\n    .dataframe tbody tr th {\n        vertical-align: top;\n    }\n\n    .dataframe thead th {\n        text-align: right;\n    }\n</style>\n<table border=\"1\" class=\"dataframe\">\n  <thead>\n    <tr style=\"text-align: right;\">\n      <th></th>\n      <th>TimestampEpoch</th>\n      <th>BusChannel</th>\n      <th>ID</th>\n      <th>IDE</th>\n      <th>DLC</th>\n      <th>DataLength</th>\n      <th>Dir</th>\n      <th>EDL</th>\n      <th>BRS</th>\n      <th>DataBytes</th>\n    </tr>\n  </thead>\n  <tbody>\n    <tr>\n      <th>0</th>\n      <td>1.627077e+09</td>\n      <td>1</td>\n      <td>370</td>\n      <td>0</td>\n      <td>8</td>\n      <td>8</td>\n      <td>0</td>\n      <td>0</td>\n      <td>0</td>\n      <td>FF00000000000000</td>\n    </tr>\n    <tr>\n      <th>1</th>\n      <td>1.627077e+09</td>\n      <td>1</td>\n      <td>316</td>\n      <td>0</td>\n      <td>8</td>\n      <td>8</td>\n      <td>0</td>\n      <td>0</td>\n      <td>0</td>\n      <td>0500000000140080</td>\n    </tr>\n    <tr>\n      <th>2</th>\n      <td>1.627077e+09</td>\n      <td>1</td>\n      <td>260</td>\n      <td>0</td>\n      <td>8</td>\n      <td>8</td>\n      <td>0</td>\n      <td>0</td>\n      <td>0</td>\n      <td>1B00000000FF0000</td>\n    </tr>\n    <tr>\n      <th>3</th>\n      <td>1.627077e+09</td>\n      <td>1</td>\n      <td>2A0</td>\n      <td>0</td>\n      <td>8</td>\n      <td>8</td>\n      <td>0</td>\n      <td>0</td>\n      <td>0</td>\n      <td>00009600D7330000</td>\n    </tr>\n    <tr>\n      <th>4</th>\n      <td>1.627077e+09</td>\n      <td>1</td>\n      <td>545</td>\n      <td>0</td>\n      <td>8</td>\n      <td>8</td>\n      <td>0</td>\n      <td>0</td>\n      <td>0</td>\n      <td>9A00007B00000000</td>\n    </tr>\n  </tbody>\n</table>\n</div>"
     },
     "execution_count": 698,
     "metadata": {},
     "output_type": "execute_result"
    }
   ],
   "source": [
    "data.head(5)"
   ],
   "metadata": {
    "collapsed": false,
    "pycharm": {
     "name": "#%%\n"
    }
   }
  },
  {
   "cell_type": "code",
   "execution_count": 699,
   "outputs": [
    {
     "data": {
      "text/plain": "         TimestampEpoch  BusChannel   ID  IDE  DLC  DataLength  Dir  EDL  BRS  \\\n1137084    1.627078e+09           1  316    0    8           8    0    0    0   \n1137085    1.627078e+09           1  260    0    8           8    0    0    0   \n1137086    1.627078e+09           1  2A0    0    8           8    0    0    0   \n1137087    1.627078e+09           1  545    0    8           8    0    0    0   \n1137088    1.627078e+09           1  329    0    8           8    0    0    0   \n\n                DataBytes  \n1137084  040000000011005B  \n1137085  1B00000000FF0000  \n1137086  0000A280D8330000  \n1137087  9800000200000000  \n1137088  40B270120020FF14  ",
      "text/html": "<div>\n<style scoped>\n    .dataframe tbody tr th:only-of-type {\n        vertical-align: middle;\n    }\n\n    .dataframe tbody tr th {\n        vertical-align: top;\n    }\n\n    .dataframe thead th {\n        text-align: right;\n    }\n</style>\n<table border=\"1\" class=\"dataframe\">\n  <thead>\n    <tr style=\"text-align: right;\">\n      <th></th>\n      <th>TimestampEpoch</th>\n      <th>BusChannel</th>\n      <th>ID</th>\n      <th>IDE</th>\n      <th>DLC</th>\n      <th>DataLength</th>\n      <th>Dir</th>\n      <th>EDL</th>\n      <th>BRS</th>\n      <th>DataBytes</th>\n    </tr>\n  </thead>\n  <tbody>\n    <tr>\n      <th>1137084</th>\n      <td>1.627078e+09</td>\n      <td>1</td>\n      <td>316</td>\n      <td>0</td>\n      <td>8</td>\n      <td>8</td>\n      <td>0</td>\n      <td>0</td>\n      <td>0</td>\n      <td>040000000011005B</td>\n    </tr>\n    <tr>\n      <th>1137085</th>\n      <td>1.627078e+09</td>\n      <td>1</td>\n      <td>260</td>\n      <td>0</td>\n      <td>8</td>\n      <td>8</td>\n      <td>0</td>\n      <td>0</td>\n      <td>0</td>\n      <td>1B00000000FF0000</td>\n    </tr>\n    <tr>\n      <th>1137086</th>\n      <td>1.627078e+09</td>\n      <td>1</td>\n      <td>2A0</td>\n      <td>0</td>\n      <td>8</td>\n      <td>8</td>\n      <td>0</td>\n      <td>0</td>\n      <td>0</td>\n      <td>0000A280D8330000</td>\n    </tr>\n    <tr>\n      <th>1137087</th>\n      <td>1.627078e+09</td>\n      <td>1</td>\n      <td>545</td>\n      <td>0</td>\n      <td>8</td>\n      <td>8</td>\n      <td>0</td>\n      <td>0</td>\n      <td>0</td>\n      <td>9800000200000000</td>\n    </tr>\n    <tr>\n      <th>1137088</th>\n      <td>1.627078e+09</td>\n      <td>1</td>\n      <td>329</td>\n      <td>0</td>\n      <td>8</td>\n      <td>8</td>\n      <td>0</td>\n      <td>0</td>\n      <td>0</td>\n      <td>40B270120020FF14</td>\n    </tr>\n  </tbody>\n</table>\n</div>"
     },
     "execution_count": 699,
     "metadata": {},
     "output_type": "execute_result"
    }
   ],
   "source": [
    "data.tail(5)"
   ],
   "metadata": {
    "collapsed": false,
    "pycharm": {
     "name": "#%%\n"
    }
   }
  },
  {
   "cell_type": "code",
   "execution_count": 700,
   "outputs": [
    {
     "data": {
      "text/plain": "    TimestampEpoch  BusChannel   ID  IDE  DLC\n10    1.627077e+09           1  260    0    8\n11    1.627077e+09           1  2A0    0    8\n12    1.627077e+09           1  545    0    8\n13    1.627077e+09           1  329    0    8\n14    1.627077e+09           1  440    0    8\n15    1.627077e+09           1  43F    0    8",
      "text/html": "<div>\n<style scoped>\n    .dataframe tbody tr th:only-of-type {\n        vertical-align: middle;\n    }\n\n    .dataframe tbody tr th {\n        vertical-align: top;\n    }\n\n    .dataframe thead th {\n        text-align: right;\n    }\n</style>\n<table border=\"1\" class=\"dataframe\">\n  <thead>\n    <tr style=\"text-align: right;\">\n      <th></th>\n      <th>TimestampEpoch</th>\n      <th>BusChannel</th>\n      <th>ID</th>\n      <th>IDE</th>\n      <th>DLC</th>\n    </tr>\n  </thead>\n  <tbody>\n    <tr>\n      <th>10</th>\n      <td>1.627077e+09</td>\n      <td>1</td>\n      <td>260</td>\n      <td>0</td>\n      <td>8</td>\n    </tr>\n    <tr>\n      <th>11</th>\n      <td>1.627077e+09</td>\n      <td>1</td>\n      <td>2A0</td>\n      <td>0</td>\n      <td>8</td>\n    </tr>\n    <tr>\n      <th>12</th>\n      <td>1.627077e+09</td>\n      <td>1</td>\n      <td>545</td>\n      <td>0</td>\n      <td>8</td>\n    </tr>\n    <tr>\n      <th>13</th>\n      <td>1.627077e+09</td>\n      <td>1</td>\n      <td>329</td>\n      <td>0</td>\n      <td>8</td>\n    </tr>\n    <tr>\n      <th>14</th>\n      <td>1.627077e+09</td>\n      <td>1</td>\n      <td>440</td>\n      <td>0</td>\n      <td>8</td>\n    </tr>\n    <tr>\n      <th>15</th>\n      <td>1.627077e+09</td>\n      <td>1</td>\n      <td>43F</td>\n      <td>0</td>\n      <td>8</td>\n    </tr>\n  </tbody>\n</table>\n</div>"
     },
     "execution_count": 700,
     "metadata": {},
     "output_type": "execute_result"
    }
   ],
   "source": [
    "data.loc[10:15, 'TimestampEpoch':'DLC']"
   ],
   "metadata": {
    "collapsed": false,
    "pycharm": {
     "name": "#%%\n"
    }
   }
  },
  {
   "cell_type": "code",
   "execution_count": 701,
   "outputs": [
    {
     "data": {
      "text/plain": "    TimestampEpoch   ID         DataBytes\n10    1.627077e+09  260  1B00000000FF0000\n11    1.627077e+09  2A0  00009600D7330000\n12    1.627077e+09  545  9A00007B00000000\n13    1.627077e+09  329  40AD70120020FF14\n14    1.627077e+09  440  00000004FF000000\n15    1.627077e+09  43F  004040FF6A000000",
      "text/html": "<div>\n<style scoped>\n    .dataframe tbody tr th:only-of-type {\n        vertical-align: middle;\n    }\n\n    .dataframe tbody tr th {\n        vertical-align: top;\n    }\n\n    .dataframe thead th {\n        text-align: right;\n    }\n</style>\n<table border=\"1\" class=\"dataframe\">\n  <thead>\n    <tr style=\"text-align: right;\">\n      <th></th>\n      <th>TimestampEpoch</th>\n      <th>ID</th>\n      <th>DataBytes</th>\n    </tr>\n  </thead>\n  <tbody>\n    <tr>\n      <th>10</th>\n      <td>1.627077e+09</td>\n      <td>260</td>\n      <td>1B00000000FF0000</td>\n    </tr>\n    <tr>\n      <th>11</th>\n      <td>1.627077e+09</td>\n      <td>2A0</td>\n      <td>00009600D7330000</td>\n    </tr>\n    <tr>\n      <th>12</th>\n      <td>1.627077e+09</td>\n      <td>545</td>\n      <td>9A00007B00000000</td>\n    </tr>\n    <tr>\n      <th>13</th>\n      <td>1.627077e+09</td>\n      <td>329</td>\n      <td>40AD70120020FF14</td>\n    </tr>\n    <tr>\n      <th>14</th>\n      <td>1.627077e+09</td>\n      <td>440</td>\n      <td>00000004FF000000</td>\n    </tr>\n    <tr>\n      <th>15</th>\n      <td>1.627077e+09</td>\n      <td>43F</td>\n      <td>004040FF6A000000</td>\n    </tr>\n  </tbody>\n</table>\n</div>"
     },
     "execution_count": 701,
     "metadata": {},
     "output_type": "execute_result"
    }
   ],
   "source": [
    "data.loc[10:15, ['TimestampEpoch', 'ID', 'DataBytes']]"
   ],
   "metadata": {
    "collapsed": false,
    "pycharm": {
     "name": "#%%\n"
    }
   }
  },
  {
   "cell_type": "code",
   "execution_count": 702,
   "outputs": [
    {
     "data": {
      "text/plain": "    TimestampEpoch   ID         DataBytes\n10    1.627077e+09  260  1B00000000FF0000\n11    1.627077e+09  2A0  00009600D7330000\n12    1.627077e+09  545  9A00007B00000000\n13    1.627077e+09  329  40AD70120020FF14\n14    1.627077e+09  440  00000004FF000000",
      "text/html": "<div>\n<style scoped>\n    .dataframe tbody tr th:only-of-type {\n        vertical-align: middle;\n    }\n\n    .dataframe tbody tr th {\n        vertical-align: top;\n    }\n\n    .dataframe thead th {\n        text-align: right;\n    }\n</style>\n<table border=\"1\" class=\"dataframe\">\n  <thead>\n    <tr style=\"text-align: right;\">\n      <th></th>\n      <th>TimestampEpoch</th>\n      <th>ID</th>\n      <th>DataBytes</th>\n    </tr>\n  </thead>\n  <tbody>\n    <tr>\n      <th>10</th>\n      <td>1.627077e+09</td>\n      <td>260</td>\n      <td>1B00000000FF0000</td>\n    </tr>\n    <tr>\n      <th>11</th>\n      <td>1.627077e+09</td>\n      <td>2A0</td>\n      <td>00009600D7330000</td>\n    </tr>\n    <tr>\n      <th>12</th>\n      <td>1.627077e+09</td>\n      <td>545</td>\n      <td>9A00007B00000000</td>\n    </tr>\n    <tr>\n      <th>13</th>\n      <td>1.627077e+09</td>\n      <td>329</td>\n      <td>40AD70120020FF14</td>\n    </tr>\n    <tr>\n      <th>14</th>\n      <td>1.627077e+09</td>\n      <td>440</td>\n      <td>00000004FF000000</td>\n    </tr>\n  </tbody>\n</table>\n</div>"
     },
     "execution_count": 702,
     "metadata": {},
     "output_type": "execute_result"
    }
   ],
   "source": [
    "data[['TimestampEpoch', 'ID', 'DataBytes']][10:15]"
   ],
   "metadata": {
    "collapsed": false,
    "pycharm": {
     "name": "#%%\n"
    }
   }
  },
  {
   "cell_type": "code",
   "execution_count": 703,
   "outputs": [
    {
     "data": {
      "text/plain": "       TimestampEpoch  BusChannel        IDE        DLC  DataLength  \\\ncount    1.137089e+06   1137089.0  1137089.0  1137089.0   1137089.0   \nmean     1.627077e+09         1.0        0.0        8.0         8.0   \nstd      3.784282e+02         0.0        0.0        0.0         0.0   \nmin      1.627077e+09         1.0        0.0        8.0         8.0   \n25%      1.627077e+09         1.0        0.0        8.0         8.0   \n50%      1.627077e+09         1.0        0.0        8.0         8.0   \n75%      1.627078e+09         1.0        0.0        8.0         8.0   \nmax      1.627078e+09         1.0        0.0        8.0         8.0   \n\n             Dir        EDL        BRS  \ncount  1137089.0  1137089.0  1137089.0  \nmean         0.0        0.0        0.0  \nstd          0.0        0.0        0.0  \nmin          0.0        0.0        0.0  \n25%          0.0        0.0        0.0  \n50%          0.0        0.0        0.0  \n75%          0.0        0.0        0.0  \nmax          0.0        0.0        0.0  ",
      "text/html": "<div>\n<style scoped>\n    .dataframe tbody tr th:only-of-type {\n        vertical-align: middle;\n    }\n\n    .dataframe tbody tr th {\n        vertical-align: top;\n    }\n\n    .dataframe thead th {\n        text-align: right;\n    }\n</style>\n<table border=\"1\" class=\"dataframe\">\n  <thead>\n    <tr style=\"text-align: right;\">\n      <th></th>\n      <th>TimestampEpoch</th>\n      <th>BusChannel</th>\n      <th>IDE</th>\n      <th>DLC</th>\n      <th>DataLength</th>\n      <th>Dir</th>\n      <th>EDL</th>\n      <th>BRS</th>\n    </tr>\n  </thead>\n  <tbody>\n    <tr>\n      <th>count</th>\n      <td>1.137089e+06</td>\n      <td>1137089.0</td>\n      <td>1137089.0</td>\n      <td>1137089.0</td>\n      <td>1137089.0</td>\n      <td>1137089.0</td>\n      <td>1137089.0</td>\n      <td>1137089.0</td>\n    </tr>\n    <tr>\n      <th>mean</th>\n      <td>1.627077e+09</td>\n      <td>1.0</td>\n      <td>0.0</td>\n      <td>8.0</td>\n      <td>8.0</td>\n      <td>0.0</td>\n      <td>0.0</td>\n      <td>0.0</td>\n    </tr>\n    <tr>\n      <th>std</th>\n      <td>3.784282e+02</td>\n      <td>0.0</td>\n      <td>0.0</td>\n      <td>0.0</td>\n      <td>0.0</td>\n      <td>0.0</td>\n      <td>0.0</td>\n      <td>0.0</td>\n    </tr>\n    <tr>\n      <th>min</th>\n      <td>1.627077e+09</td>\n      <td>1.0</td>\n      <td>0.0</td>\n      <td>8.0</td>\n      <td>8.0</td>\n      <td>0.0</td>\n      <td>0.0</td>\n      <td>0.0</td>\n    </tr>\n    <tr>\n      <th>25%</th>\n      <td>1.627077e+09</td>\n      <td>1.0</td>\n      <td>0.0</td>\n      <td>8.0</td>\n      <td>8.0</td>\n      <td>0.0</td>\n      <td>0.0</td>\n      <td>0.0</td>\n    </tr>\n    <tr>\n      <th>50%</th>\n      <td>1.627077e+09</td>\n      <td>1.0</td>\n      <td>0.0</td>\n      <td>8.0</td>\n      <td>8.0</td>\n      <td>0.0</td>\n      <td>0.0</td>\n      <td>0.0</td>\n    </tr>\n    <tr>\n      <th>75%</th>\n      <td>1.627078e+09</td>\n      <td>1.0</td>\n      <td>0.0</td>\n      <td>8.0</td>\n      <td>8.0</td>\n      <td>0.0</td>\n      <td>0.0</td>\n      <td>0.0</td>\n    </tr>\n    <tr>\n      <th>max</th>\n      <td>1.627078e+09</td>\n      <td>1.0</td>\n      <td>0.0</td>\n      <td>8.0</td>\n      <td>8.0</td>\n      <td>0.0</td>\n      <td>0.0</td>\n      <td>0.0</td>\n    </tr>\n  </tbody>\n</table>\n</div>"
     },
     "execution_count": 703,
     "metadata": {},
     "output_type": "execute_result"
    }
   ],
   "source": [
    "data.describe()"
   ],
   "metadata": {
    "collapsed": false,
    "pycharm": {
     "name": "#%%\n"
    }
   }
  },
  {
   "cell_type": "code",
   "execution_count": 704,
   "outputs": [
    {
     "data": {
      "text/plain": "             ID         DataBytes\ncount   1137089           1137089\nunique        8             20555\ntop         440  FF02000000000000\nfreq     160178            137993",
      "text/html": "<div>\n<style scoped>\n    .dataframe tbody tr th:only-of-type {\n        vertical-align: middle;\n    }\n\n    .dataframe tbody tr th {\n        vertical-align: top;\n    }\n\n    .dataframe thead th {\n        text-align: right;\n    }\n</style>\n<table border=\"1\" class=\"dataframe\">\n  <thead>\n    <tr style=\"text-align: right;\">\n      <th></th>\n      <th>ID</th>\n      <th>DataBytes</th>\n    </tr>\n  </thead>\n  <tbody>\n    <tr>\n      <th>count</th>\n      <td>1137089</td>\n      <td>1137089</td>\n    </tr>\n    <tr>\n      <th>unique</th>\n      <td>8</td>\n      <td>20555</td>\n    </tr>\n    <tr>\n      <th>top</th>\n      <td>440</td>\n      <td>FF02000000000000</td>\n    </tr>\n    <tr>\n      <th>freq</th>\n      <td>160178</td>\n      <td>137993</td>\n    </tr>\n  </tbody>\n</table>\n</div>"
     },
     "execution_count": 704,
     "metadata": {},
     "output_type": "execute_result"
    }
   ],
   "source": [
    "data.describe(include = ['O'])"
   ],
   "metadata": {
    "collapsed": false,
    "pycharm": {
     "name": "#%%\n"
    }
   }
  },
  {
   "cell_type": "code",
   "execution_count": 705,
   "outputs": [
    {
     "data": {
      "text/plain": "TimestampEpoch    1137089\nBusChannel              1\nID                      8\nIDE                     1\nDLC                     1\nDataLength              1\nDir                     1\nEDL                     1\nBRS                     1\nDataBytes           20555\ndtype: int64"
     },
     "execution_count": 705,
     "metadata": {},
     "output_type": "execute_result"
    }
   ],
   "source": [
    "# Unique values per column excluding null\n",
    "data.nunique()"
   ],
   "metadata": {
    "collapsed": false,
    "pycharm": {
     "name": "#%%\n"
    }
   }
  },
  {
   "cell_type": "code",
   "execution_count": 706,
   "outputs": [
    {
     "data": {
      "text/plain": "TimestampEpoch    1137089\nBusChannel              1\nID                      8\nIDE                     1\nDLC                     1\nDataLength              1\nDir                     1\nEDL                     1\nBRS                     1\nDataBytes           20555\ndtype: int64"
     },
     "execution_count": 706,
     "metadata": {},
     "output_type": "execute_result"
    }
   ],
   "source": [
    "# Unique values per column including null\n",
    "data.nunique(dropna=False)"
   ],
   "metadata": {
    "collapsed": false,
    "pycharm": {
     "name": "#%%\n"
    }
   }
  },
  {
   "cell_type": "code",
   "execution_count": 707,
   "outputs": [
    {
     "data": {
      "text/plain": "TimestampEpoch    1137089\nBusChannel        1137089\nID                1137089\nIDE               1137089\nDLC               1137089\nDataLength        1137089\nDir               1137089\nEDL               1137089\nBRS               1137089\nDataBytes         1137089\ndtype: int64"
     },
     "execution_count": 707,
     "metadata": {},
     "output_type": "execute_result"
    }
   ],
   "source": [
    "data.count()"
   ],
   "metadata": {
    "collapsed": false,
    "pycharm": {
     "name": "#%%\n"
    }
   }
  },
  {
   "cell_type": "markdown",
   "source": [
    "---"
   ],
   "metadata": {
    "collapsed": false,
    "pycharm": {
     "name": "#%% md\n"
    }
   }
  },
  {
   "cell_type": "code",
   "execution_count": 708,
   "outputs": [],
   "source": [
    "can_bus_data = data[['TimestampEpoch', 'ID', 'DataBytes']]"
   ],
   "metadata": {
    "collapsed": false,
    "pycharm": {
     "name": "#%%\n"
    }
   }
  },
  {
   "cell_type": "code",
   "execution_count": 709,
   "outputs": [],
   "source": [
    "can_bus_data = can_bus_data.rename(columns={'TimestampEpoch':'time_stamp_epoch',\n",
    "                                            'ID':'can_id',\n",
    "                                            'DataBytes':'data'})"
   ],
   "metadata": {
    "collapsed": false,
    "pycharm": {
     "name": "#%%\n"
    }
   }
  },
  {
   "cell_type": "code",
   "execution_count": 710,
   "outputs": [
    {
     "data": {
      "text/plain": "   time_stamp_epoch can_id              data\n0      1.627077e+09    370  FF00000000000000\n1      1.627077e+09    316  0500000000140080\n2      1.627077e+09    260  1B00000000FF0000\n3      1.627077e+09    2A0  00009600D7330000\n4      1.627077e+09    545  9A00007B00000000",
      "text/html": "<div>\n<style scoped>\n    .dataframe tbody tr th:only-of-type {\n        vertical-align: middle;\n    }\n\n    .dataframe tbody tr th {\n        vertical-align: top;\n    }\n\n    .dataframe thead th {\n        text-align: right;\n    }\n</style>\n<table border=\"1\" class=\"dataframe\">\n  <thead>\n    <tr style=\"text-align: right;\">\n      <th></th>\n      <th>time_stamp_epoch</th>\n      <th>can_id</th>\n      <th>data</th>\n    </tr>\n  </thead>\n  <tbody>\n    <tr>\n      <th>0</th>\n      <td>1.627077e+09</td>\n      <td>370</td>\n      <td>FF00000000000000</td>\n    </tr>\n    <tr>\n      <th>1</th>\n      <td>1.627077e+09</td>\n      <td>316</td>\n      <td>0500000000140080</td>\n    </tr>\n    <tr>\n      <th>2</th>\n      <td>1.627077e+09</td>\n      <td>260</td>\n      <td>1B00000000FF0000</td>\n    </tr>\n    <tr>\n      <th>3</th>\n      <td>1.627077e+09</td>\n      <td>2A0</td>\n      <td>00009600D7330000</td>\n    </tr>\n    <tr>\n      <th>4</th>\n      <td>1.627077e+09</td>\n      <td>545</td>\n      <td>9A00007B00000000</td>\n    </tr>\n  </tbody>\n</table>\n</div>"
     },
     "execution_count": 710,
     "metadata": {},
     "output_type": "execute_result"
    }
   ],
   "source": [
    "can_bus_data.head(5)"
   ],
   "metadata": {
    "collapsed": false,
    "pycharm": {
     "name": "#%%\n"
    }
   }
  },
  {
   "cell_type": "markdown",
   "source": [
    "Convertir tiempo almacenado como UNIX epoc a formato timestamp con resolución de microsegundo."
   ],
   "metadata": {
    "collapsed": false,
    "pycharm": {
     "name": "#%% md\n"
    }
   }
  },
  {
   "cell_type": "code",
   "execution_count": 711,
   "outputs": [],
   "source": [
    "# todo convert to unix epoch/timestamp to datetime format.\n",
    "can_bus_data['time_stamp'] = pd.to_datetime(can_bus_data['time_stamp_epoch'],\n",
    "                                   unit='s',  # s (D,s,ms,us,ns)\n",
    "                                   utc=True)"
   ],
   "metadata": {
    "collapsed": false,
    "pycharm": {
     "name": "#%%\n"
    }
   }
  },
  {
   "cell_type": "markdown",
   "source": [
    "Convertir de GMT/UTC 00 a GMT/UTC-5 para adecuar a horario colombiano."
   ],
   "metadata": {
    "collapsed": false,
    "pycharm": {
     "name": "#%% md\n"
    }
   }
  },
  {
   "cell_type": "code",
   "execution_count": 712,
   "outputs": [],
   "source": [
    "can_bus_data['time_stamp'] = can_bus_data['time_stamp'].dt.tz_convert('America/Bogota')\n",
    "can_bus_data.set_index('time_stamp', inplace=True)\n",
    "can_bus_data.drop(columns=['time_stamp_epoch'], inplace=True)"
   ],
   "metadata": {
    "collapsed": false,
    "pycharm": {
     "name": "#%%\n"
    }
   }
  },
  {
   "cell_type": "code",
   "execution_count": 713,
   "outputs": [],
   "source": [
    "can_bus_data['can_id'] = can_bus_data['can_id'].apply(int, base=16)"
   ],
   "metadata": {
    "collapsed": false,
    "pycharm": {
     "name": "#%%\n"
    }
   }
  },
  {
   "cell_type": "code",
   "execution_count": 714,
   "outputs": [
    {
     "data": {
      "text/plain": "                                     can_id              data\ntime_stamp                                                   \n2021-07-23 16:43:55.972850176-05:00     880  FF00000000000000\n2021-07-23 16:43:55.973900032-05:00     790  0500000000140080\n2021-07-23 16:43:55.974149888-05:00     608  1B00000000FF0000\n2021-07-23 16:43:55.974400-05:00        672  00009600D7330000\n2021-07-23 16:43:55.974600192-05:00    1349  9A00007B00000000",
      "text/html": "<div>\n<style scoped>\n    .dataframe tbody tr th:only-of-type {\n        vertical-align: middle;\n    }\n\n    .dataframe tbody tr th {\n        vertical-align: top;\n    }\n\n    .dataframe thead th {\n        text-align: right;\n    }\n</style>\n<table border=\"1\" class=\"dataframe\">\n  <thead>\n    <tr style=\"text-align: right;\">\n      <th></th>\n      <th>can_id</th>\n      <th>data</th>\n    </tr>\n    <tr>\n      <th>time_stamp</th>\n      <th></th>\n      <th></th>\n    </tr>\n  </thead>\n  <tbody>\n    <tr>\n      <th>2021-07-23 16:43:55.972850176-05:00</th>\n      <td>880</td>\n      <td>FF00000000000000</td>\n    </tr>\n    <tr>\n      <th>2021-07-23 16:43:55.973900032-05:00</th>\n      <td>790</td>\n      <td>0500000000140080</td>\n    </tr>\n    <tr>\n      <th>2021-07-23 16:43:55.974149888-05:00</th>\n      <td>608</td>\n      <td>1B00000000FF0000</td>\n    </tr>\n    <tr>\n      <th>2021-07-23 16:43:55.974400-05:00</th>\n      <td>672</td>\n      <td>00009600D7330000</td>\n    </tr>\n    <tr>\n      <th>2021-07-23 16:43:55.974600192-05:00</th>\n      <td>1349</td>\n      <td>9A00007B00000000</td>\n    </tr>\n  </tbody>\n</table>\n</div>"
     },
     "execution_count": 714,
     "metadata": {},
     "output_type": "execute_result"
    }
   ],
   "source": [
    "can_bus_data.head()"
   ],
   "metadata": {
    "collapsed": false,
    "pycharm": {
     "name": "#%%\n"
    }
   }
  },
  {
   "cell_type": "code",
   "execution_count": 715,
   "outputs": [],
   "source": [
    "can = can_bus_data.copy()"
   ],
   "metadata": {
    "collapsed": false,
    "pycharm": {
     "name": "#%%\n"
    }
   }
  },
  {
   "cell_type": "code",
   "execution_count": 717,
   "outputs": [
    {
     "data": {
      "text/plain": "                                     can_id              data\ntime_stamp                                                   \n2021-07-23 16:43:55.972850176-05:00     880  FF00000000000000\n2021-07-23 16:43:55.973900032-05:00     790  0500000000140080\n2021-07-23 16:43:55.974149888-05:00     608  1B00000000FF0000\n2021-07-23 16:43:55.974400-05:00        672  00009600D7330000\n2021-07-23 16:43:55.974600192-05:00    1349  9A00007B00000000",
      "text/html": "<div>\n<style scoped>\n    .dataframe tbody tr th:only-of-type {\n        vertical-align: middle;\n    }\n\n    .dataframe tbody tr th {\n        vertical-align: top;\n    }\n\n    .dataframe thead th {\n        text-align: right;\n    }\n</style>\n<table border=\"1\" class=\"dataframe\">\n  <thead>\n    <tr style=\"text-align: right;\">\n      <th></th>\n      <th>can_id</th>\n      <th>data</th>\n    </tr>\n    <tr>\n      <th>time_stamp</th>\n      <th></th>\n      <th></th>\n    </tr>\n  </thead>\n  <tbody>\n    <tr>\n      <th>2021-07-23 16:43:55.972850176-05:00</th>\n      <td>880</td>\n      <td>FF00000000000000</td>\n    </tr>\n    <tr>\n      <th>2021-07-23 16:43:55.973900032-05:00</th>\n      <td>790</td>\n      <td>0500000000140080</td>\n    </tr>\n    <tr>\n      <th>2021-07-23 16:43:55.974149888-05:00</th>\n      <td>608</td>\n      <td>1B00000000FF0000</td>\n    </tr>\n    <tr>\n      <th>2021-07-23 16:43:55.974400-05:00</th>\n      <td>672</td>\n      <td>00009600D7330000</td>\n    </tr>\n    <tr>\n      <th>2021-07-23 16:43:55.974600192-05:00</th>\n      <td>1349</td>\n      <td>9A00007B00000000</td>\n    </tr>\n  </tbody>\n</table>\n</div>"
     },
     "execution_count": 717,
     "metadata": {},
     "output_type": "execute_result"
    }
   ],
   "source": [
    "can.head()"
   ],
   "metadata": {
    "collapsed": false,
    "pycharm": {
     "name": "#%%\n"
    }
   }
  },
  {
   "cell_type": "code",
   "execution_count": 725,
   "outputs": [],
   "source": [
    "import matplotlib.pyplot as plt\n",
    "import matplotlib.ticker as ticker\n",
    "import seaborn as sns\n",
    "%matplotlib inline"
   ],
   "metadata": {
    "collapsed": false,
    "pycharm": {
     "name": "#%%\n"
    }
   }
  },
  {
   "cell_type": "code",
   "execution_count": 734,
   "outputs": [
    {
     "name": "stderr",
     "output_type": "stream",
     "text": [
      "C:\\Users\\ENSAYO~1\\AppData\\Local\\Temp/ipykernel_17152/265501202.py:6: UserWarning: FixedFormatter should only be used together with FixedLocator\n",
      "  ax.xaxis.set_major_formatter(ticker.FixedFormatter(tick_labels))\n"
     ]
    },
    {
     "data": {
      "text/plain": "<Figure size 432x288 with 1 Axes>",
      "image/png": "[encoded data removed]"
     },
     "metadata": {
      "needs_background": "light"
     },
     "output_type": "display_data"
    }
   ],
   "source": [
    "ax = can['can_id'][0:10].plot()\n",
    "plt.title('CAN IDs plot')\n",
    "plt.xlabel('id')\n",
    "plt.ylabel('CAN ID')\n",
    "tick_labels = can.index.strftime('%Y-%m-%d %H-%M:%S.%f')\n",
    "ax.xaxis.set_major_formatter(ticker.FixedFormatter(tick_labels))\n",
    "ax.yaxis.set_major_formatter(ticker.FormatStrFormatter('%.2f'))\n",
    "plt.show()"
   ],
   "metadata": {
    "collapsed": false,
    "pycharm": {
     "name": "#%%\n"
    }
   }
  },
  {
   "cell_type": "code",
   "execution_count": 730,
   "outputs": [
    {
     "data": {
      "text/plain": "608"
     },
     "execution_count": 730,
     "metadata": {},
     "output_type": "execute_result"
    }
   ],
   "source": [
    "can['can_id'].min()"
   ],
   "metadata": {
    "collapsed": false,
    "pycharm": {
     "name": "#%%\n"
    }
   }
  },
  {
   "cell_type": "code",
   "execution_count": 731,
   "outputs": [
    {
     "data": {
      "text/plain": "1349"
     },
     "execution_count": 731,
     "metadata": {},
     "output_type": "execute_result"
    }
   ],
   "source": [
    "can['can_id'].max()"
   ],
   "metadata": {
    "collapsed": false,
    "pycharm": {
     "name": "#%%\n"
    }
   }
  }
 ],
 "metadata": {
  "kernelspec": {
   "display_name": "Python 3",
   "language": "python",
   "name": "python3"
  },
  "language_info": {
   "codemirror_mode": {
    "name": "ipython",
    "version": 2
   },
   "file_extension": ".py",
   "mimetype": "text/x-python",
   "name": "python",
   "nbconvert_exporter": "python",
   "pygments_lexer": "ipython2",
   "version": "2.7.6"
  }
 },
 "nbformat": 4,
 "nbformat_minor": 0
}