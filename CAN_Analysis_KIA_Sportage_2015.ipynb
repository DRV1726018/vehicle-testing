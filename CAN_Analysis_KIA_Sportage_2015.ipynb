{
 "cells": [
  {
   "cell_type": "markdown",
   "source": [
    "# **Ensayo de lectura de CAN en KIA Sportage 2015**\n",
    "\n",
    "---\n",
    "\n",
    "\n",
    "El ensayo se realizó el 23 de julio de 2021 en el dinamómetro del Laboratorio de Emisiones de *Blanco y Negro Masivo (Metrocali)* en el Patio Taller Calima ubicado en Yumbo, Valle.\n",
    "\n",
    "\n",
    "\n",
    "---\n",
    "\n",
    "\n",
    "El ensayo se realizó con el dispositivo [CANEdge2 Logger](https://www.csselectronics.com/screen/product/can-lin-logger-wifi-canedge2/language/en). En el siguiente enlace puede encontrar la carpeta con la data generada.\n",
    "\n",
    "*   [KIA Sportage 2015 - Dina. Metrocali](https://drive.google.com/drive/folders/1_JDW8dhGknh96i0ICReeCrxRWxyb0GPR?usp=sharing)\n",
    "\n",
    "A continuación una foto del ensayo.\n",
    "\n",
    "![](https://drive.google.com/uc?export=view&id=1jKCOCNwXc4dlgO-PudePOD4P0t-uRDw3)"
   ],
   "metadata": {
    "collapsed": false,
    "pycharm": {
     "name": "#%% md\n"
    }
   }
  },
  {
   "cell_type": "code",
   "execution_count": 14,
   "outputs": [
    {
     "data": {
      "text/plain": "   TimestampEpoch  BusChannel   ID  IDE  DLC  DataLength  Dir  EDL  BRS  \\\n0    1.627077e+09           1  370    0    8           8    0    0    0   \n1    1.627077e+09           1  316    0    8           8    0    0    0   \n2    1.627077e+09           1  260    0    8           8    0    0    0   \n3    1.627077e+09           1  2A0    0    8           8    0    0    0   \n4    1.627077e+09           1  545    0    8           8    0    0    0   \n\n          DataBytes  \n0  FF00000000000000  \n1  0500000000140080  \n2  1B00000000FF0000  \n3  00009600D7330000  \n4  9A00007B00000000  ",
      "text/html": "<div>\n<style scoped>\n    .dataframe tbody tr th:only-of-type {\n        vertical-align: middle;\n    }\n\n    .dataframe tbody tr th {\n        vertical-align: top;\n    }\n\n    .dataframe thead th {\n        text-align: right;\n    }\n</style>\n<table border=\"1\" class=\"dataframe\">\n  <thead>\n    <tr style=\"text-align: right;\">\n      <th></th>\n      <th>TimestampEpoch</th>\n      <th>BusChannel</th>\n      <th>ID</th>\n      <th>IDE</th>\n      <th>DLC</th>\n      <th>DataLength</th>\n      <th>Dir</th>\n      <th>EDL</th>\n      <th>BRS</th>\n      <th>DataBytes</th>\n    </tr>\n  </thead>\n  <tbody>\n    <tr>\n      <th>0</th>\n      <td>1.627077e+09</td>\n      <td>1</td>\n      <td>370</td>\n      <td>0</td>\n      <td>8</td>\n      <td>8</td>\n      <td>0</td>\n      <td>0</td>\n      <td>0</td>\n      <td>FF00000000000000</td>\n    </tr>\n    <tr>\n      <th>1</th>\n      <td>1.627077e+09</td>\n      <td>1</td>\n      <td>316</td>\n      <td>0</td>\n      <td>8</td>\n      <td>8</td>\n      <td>0</td>\n      <td>0</td>\n      <td>0</td>\n      <td>0500000000140080</td>\n    </tr>\n    <tr>\n      <th>2</th>\n      <td>1.627077e+09</td>\n      <td>1</td>\n      <td>260</td>\n      <td>0</td>\n      <td>8</td>\n      <td>8</td>\n      <td>0</td>\n      <td>0</td>\n      <td>0</td>\n      <td>1B00000000FF0000</td>\n    </tr>\n    <tr>\n      <th>3</th>\n      <td>1.627077e+09</td>\n      <td>1</td>\n      <td>2A0</td>\n      <td>0</td>\n      <td>8</td>\n      <td>8</td>\n      <td>0</td>\n      <td>0</td>\n      <td>0</td>\n      <td>00009600D7330000</td>\n    </tr>\n    <tr>\n      <th>4</th>\n      <td>1.627077e+09</td>\n      <td>1</td>\n      <td>545</td>\n      <td>0</td>\n      <td>8</td>\n      <td>8</td>\n      <td>0</td>\n      <td>0</td>\n      <td>0</td>\n      <td>9A00007B00000000</td>\n    </tr>\n  </tbody>\n</table>\n</div>"
     },
     "execution_count": 14,
     "metadata": {},
     "output_type": "execute_result"
    }
   ],
   "source": [
    "import pandas as pd\n",
    "# https://drive.google.com/file/d/1QcO_DUKsjT9P8xkiv5-95VnBavs_-rqC/view?usp=sharing\n",
    "can_bus_data = pd.read_csv('https://drive.google.com/uc?id=1QcO_DUKsjT9P8xkiv5-95VnBavs_-rqC',\n",
    "                           delimiter=';')\n",
    "can_bus_data.head()"
   ],
   "metadata": {
    "collapsed": false,
    "pycharm": {
     "name": "#%%\n"
    }
   }
  },
  {
   "cell_type": "markdown",
   "source": [],
   "metadata": {
    "collapsed": false,
    "pycharm": {
     "name": "#%% md\n"
    }
   }
  }
 ],
 "metadata": {
  "kernelspec": {
   "display_name": "Python 3",
   "language": "python",
   "name": "python3"
  },
  "language_info": {
   "codemirror_mode": {
    "name": "ipython",
    "version": 2
   },
   "file_extension": ".py",
   "mimetype": "text/x-python",
   "name": "python",
   "nbconvert_exporter": "python",
   "pygments_lexer": "ipython2",
   "version": "2.7.6"
  }
 },
 "nbformat": 4,
 "nbformat_minor": 0
}